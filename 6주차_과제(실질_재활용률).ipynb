{
  "nbformat": 4,
  "nbformat_minor": 0,
  "metadata": {
    "colab": {
      "name": "5주차 과제(실질 재활용률)",
      "provenance": [],
      "collapsed_sections": [],
      "authorship_tag": "ABX9TyPOM8F09Hp/0ZUgAiSKWDKp",
      "include_colab_link": true
    },
    "kernelspec": {
      "name": "python3",
      "display_name": "Python 3"
    },
    "language_info": {
      "name": "python"
    }
  },
  "cells": [
    {
      "cell_type": "markdown",
      "metadata": {
        "id": "view-in-github",
        "colab_type": "text"
      },
      "source": [
        "<a href=\"https://colab.research.google.com/github/lyj0125/2022challenge/blob/main/6%EC%A3%BC%EC%B0%A8_%EA%B3%BC%EC%A0%9C(%EC%8B%A4%EC%A7%88_%EC%9E%AC%ED%99%9C%EC%9A%A9%EB%A5%A0).ipynb\" target=\"_parent\"><img src=\"https://colab.research.google.com/assets/colab-badge.svg\" alt=\"Open In Colab\"/></a>"
      ]
    },
    {
      "cell_type": "markdown",
      "source": [
        "#프로젝트 주제: 서울시 생활폐기물 중 재활용을 목적으로 별도 구분하여 배출된 폐기물의 실질 재활용률\n",
        "##1.검토할 데이터\n",
        "###1) ¹연도별 서울시 쓰레기량 및 재활용량 소계\n",
        "###2) ²데이터 상 '재활용'의 의미\n",
        "###3) ³연도별 재활용품 분리배출에 의한 재활용잔재물\n",
        "\n",
        "##2. 문제인식\n",
        "###1) 공식적 통계에서는 재활용률이 90%에 육박하지만 실질재활용률은 30~50%대일 것이라는 기사\n",
        "###2) 실질재활용률 계산 공식이나 통계가 없음\n",
        "###3) 우리가 분리배출하는 폐기물 중 실제로 얼마나 재활용이 되는지 확인하고 싶음\n",
        "###4) '재활용'은 자원순환과 에너지화를 포함하지만 분리하여 측정하기 어려워 함께 파악할 수 밖에 없음\n",
        "###5) ⁴실질재활용률을 분석하기 위해선 재활용 시설의 공정 흐름을 파악해 최종처분율을 추정해야 하지만 데이터 수집에 어려움이 있어 재활용실적보고서의 재활용잔재물을 우선 파악하여 계산해야 함\n",
        "###6) 따라서 재활용으로 분리배출하는 폐기물의 총량과 그 중 처리되지 못한 잔재물의 비율을 파악해야 함\n",
        "\n",
        "##3. 의미 분석\n",
        "###1) 서울시 전체 쓰레기량 중 재활용량은 점차 높아져 최근 들어 90%에 육박함\n",
        "###2) ²생활폐기물 통계의 '재활용'은 재활용시설의 투입량을 총 수집량으로 나누어 산정하고 있어 실제보다 과대 평가 됨\n",
        "###3) 분리배출하는 폐기물과 잔재물의 비율을 확인하였더니 \n",
        "\n",
        "##4. 한계\n",
        "###1) 재활용잔재물 데이터가 2018년부터 있음\n",
        "###2) 재활용 결과인 자원순환과 에너지순환을 분리하지 못함\n",
        "###3) 실질재활용률에 대한 기사와 통계 수치 간 괴리가 있음 \n",
        "\n",
        "##5.출처\n",
        "###¹'생활폐기물 발생량 및 처리현황', 서울특별시, 서울특별시기본통계, 서울 열린데이터 광장\n",
        "###²오길종, \"생활폐기물의 실질재활용률과 최종처분율 추정 및 분석\", 2018년도 추계학술연구발표회 논문집, p2\n",
        "###³'폐기물 발생현황_생활폐기물',「전국폐기물발생및처리현황」,환경부(자료갱신일 2021.8.9), KOSIS\n",
        "### ⁴이소라, 주현수, \"가정생활폐기물의 처리흐름 분석 및 실질 재활용률 및 실질 폐기물에너지화율 산정 연구: 17개 지자체 사례\", 2017년도 춘계학술연구발표회 논문집, p1\n",
        "###'[쓰래기로드를 마치며]쓰레기 난세에서 자원순환경제로', 한겨레21(2021.8.12)\n"
      ],
      "metadata": {
        "id": "BTNzQ5O_LInO"
      }
    },
    {
      "cell_type": "code",
      "source": [
        "import csv\n",
        "data=csv.reader(open('seoul_trash.csv'))\n",
        "next(data)\n",
        "\n",
        "x=[] #연도\n",
        "y1=[] #쓰레기 총량\n",
        "y2=[] #재활용 총량\n",
        "y3=[] #인구수\n",
        "y4=[] #재활용/쓰레기총량 비율\n",
        "for row in data:\n",
        "  if '소계' in row[1]:\n",
        "    x.append(int(row[0]))\n",
        "    y1.append(float(row[4]))\n",
        "    y2.append(float(row[7]))\n",
        "    y3.append(float(row[3]))\n",
        "\n",
        "for i in range(0,26):\n",
        "  y4.append(float(y2[i]/y1[i])*100)\n",
        "\n",
        "print(x)\n",
        "print(y1)\n",
        "print(y2)\n",
        "print(y3)\n",
        "print(y4)\n"
      ],
      "metadata": {
        "id": "WWzPTINke3A-",
        "colab": {
          "base_uri": "https://localhost:8080/"
        },
        "outputId": "c38fef96-6e23-41fa-dfec-e28c4290da4e"
      },
      "execution_count": 5,
      "outputs": [
        {
          "output_type": "stream",
          "name": "stdout",
          "text": [
            "[1995, 1996, 1997, 1998, 1999, 2000, 2001, 2002, 2003, 2004, 2005, 2006, 2007, 2008, 2009, 2010, 2011, 2012, 2013, 2014, 2015, 2016, 2017, 2018, 2019, 2020]\n",
            "[14102.0, 13685.0, 12662.0, 10765.0, 10972.0, 32192.0, 42737.0, 48328.2, 48189.0, 45839.1, 32317.0, 45427.0, 44203.6, 44941.6, 43785.6, 37747.2, 39463.8, 37843.5, 34474.3, 37199.6, 41710.9, 45117.5, 45894.0, 46188.4, 47995.8, 52248.2]\n",
            "[4137.0, 4040.0, 4240.0, 4108.0, 4482.0, 18179.0, 26462.1, 28202.2, 31918.7, 31336.3, 26043.0, 38660.0, 37478.6, 38761.1, 37741.7, 32404.1, 33089.7, 31119.0, 29109.6, 31531.9, 35575.5, 39119.8, 40258.4, 40724.6, 42235.6, 46503.7]\n",
            "[10595943.0, 10469852.0, 10389057.0, 10321496.0, 10321449.0, 10373234.0, 10331244.0, 10280523.0, 10276968.0, 10287847.0, 10297004.0, 10356202.0, 10421782.0, 10456034.0, 10464051.0, 10575447.0, 10528774.0, 10442426.0, 10388055.0, 10369593.0, 10297138.0, 10204057.0, 10124579.0, 10049607.0, 10010983.0, 9911088.0]\n",
            "[29.3362643596653, 29.521373766898062, 33.48602116569263, 38.160705991639574, 40.84943492526431, 56.47055168986084, 61.91847813370147, 58.355577075082465, 66.23648550499077, 68.36150797026991, 80.58606925147755, 85.10357276509565, 84.7863069976201, 86.24770813678195, 86.19660344953591, 85.84504281112243, 83.84823559819378, 82.23076618177494, 84.43855277699619, 84.76408348476866, 85.2906554401847, 86.70648861306589, 87.7203991807208, 88.17062292696866, 87.99853320498876, 89.00536286417523]\n"
          ]
        }
      ]
    },
    {
      "cell_type": "code",
      "source": [
        "import csv\n",
        "data=csv.reader(open('seoul_trash.csv'))\n",
        "next(data)\n",
        "\n",
        "x=[] #연도\n",
        "y1=[] #쓰레기 총량\n",
        "y2=[] #재활용 총량\n",
        "y3=[] #인구수\n",
        "y4=[] #재활용/쓰레기총량 비율\n",
        "for row in data:\n",
        "  if '소계' in row[1]:\n",
        "    x.append(int(row[0]))\n",
        "    y1.append(float(row[4]))\n",
        "    y2.append(float(row[7]))\n",
        "    y3.append(float(row[3]))\n",
        "\n",
        "for i in range(0,26):\n",
        "  y4.append(float(y2[i]/y1[i])*100)\n",
        "\n",
        "#그래프화\n",
        "import matplotlib.pyplot as plt\n",
        "fig=plt.figure(figsize=(10,6)) #그래프 사이즈 넓히기\n",
        "fig.set_facecolor('white')\n",
        "ax1=fig.add_subplot() #여러 개 그래프 만들기\n",
        "\n",
        "color1='b' #서울시 총 인구수\n",
        "ax1.plot(x,y3,color=color1,label='population')\n",
        "ax1.set_xlabel('year')\n",
        "ax1.set_ylabel('population',color=color1)\n",
        "ax1.tick_params(axis='y',labelcolor=color1)\n",
        "plt.legend()\n",
        "\n",
        "color2='r' #서울시 쓰레기 총량\n",
        "ax2=ax1.twinx()\n",
        "ax2.plot(x,y1,color=color2,label='trash')\n",
        "ax2.set_ylabel('trash and recycle')\n",
        "ax2.tick_params(axis='y')\n",
        "plt.legend()\n",
        "\n",
        "color3='g' #서울시 재활용 총량\n",
        "plt.plot(x,y2,color=color3,label='recycle')\n",
        "plt.legend()\n",
        "plt.title('population and trash in Seoul since 1995')\n",
        "\n",
        "plt.show()\n",
        "\n",
        "fig=plt.figure(figsize=(10,6))\n",
        "plt.bar(x,y4,color=color3) #쓰레기총량 대비 재활용\n",
        "plt.title('rate of recycling')\n",
        "plt.show()\n"
      ],
      "metadata": {
        "colab": {
          "base_uri": "https://localhost:8080/",
          "height": 777
        },
        "id": "eTTLyGD_nFaH",
        "outputId": "c597a9b4-4765-47d0-bd0b-ae2ec77b4fcb"
      },
      "execution_count": 7,
      "outputs": [
        {
          "output_type": "display_data",
          "data": {
            "text/plain": [
              "<Figure size 720x432 with 2 Axes>"
            ],
            "image/png": "[encoded data removed]"
          },
          "metadata": {}
        },
        {
          "output_type": "display_data",
          "data": {
            "text/plain": [
              "<Figure size 720x432 with 1 Axes>"
            ],
            "image/png": "[encoded data removed]"
          },
          "metadata": {
            "needs_background": "light"
          }
        }
      ]
    },
    {
      "cell_type": "code",
      "source": [
        "import csv\n",
        "data=csv.reader(open('remnants_since2018.csv'))\n",
        "next(data)\n",
        "\n",
        "year=['2018','2019'] #연도\n",
        "b1=[] #쓰레기 총량\n",
        "b2=[] #분리배출 총량\n",
        "b3=[] #재활용잔재물\n",
        "b4=[] #쓰레기총량에 대한 분리배출 비율\n",
        "b5=[] #실질재활용률 = 분리배출 총량-재활용잔재물/쓰레기총량\n",
        "for row in data:\n",
        "  if '서울' in row[1]:\n",
        "    b1.append(float(row[2]))\n",
        "    b2.append(float(row[3]))\n",
        "    b3.append(float(row[4]))\n",
        "\n",
        "print(year)\n",
        "print(b1)\n",
        "print(b2)\n",
        "print(b3)\n",
        "\n",
        "for i in range(0,2):\n",
        "  b4.append(float(b2[i]/b1[i])*100)\n",
        "  b5.append((float(b2[i])-float(b3[i]))/float(b1[i])*100)\n",
        "print(b4)\n",
        "print(b5)"
      ],
      "metadata": {
        "colab": {
          "base_uri": "https://localhost:8080/"
        },
        "id": "imSvvVQAuE7b",
        "outputId": "78c1be0e-be16-4431-f0e5-ac9f3166efcd"
      },
      "execution_count": 70,
      "outputs": [
        {
          "output_type": "stream",
          "name": "stdout",
          "text": [
            "['2018', '2019']\n",
            "[8586.9, 8658.0]\n",
            "[3117.7, 2865.1]\n",
            "[505.4, 554.3]\n",
            "[36.3076313920041, 33.09193809193809]\n",
            "[30.421921764548323, 26.689766689766692]\n"
          ]
        }
      ]
    },
    {
      "cell_type": "code",
      "source": [
        "import pandas as pd\n",
        "import csv\n",
        "data=csv.reader(open('remnants_since2018.csv'))\n",
        "\n",
        "year=['2018','2019'] #연도\n",
        "b1=[] #쓰레기 총량\n",
        "b2=[] #분리배출 총량\n",
        "b3=[] #재활용잔재물\n",
        "b4=[] #쓰레기총량에 대한 분리배출 비율\n",
        "b5=[] #실질재활용률 = 분리배출 총량-재활용잔재물/쓰레기총량\n",
        "for row in data:\n",
        "  if '서울' in row[1]:\n",
        "    b1.append(float(row[2]))\n",
        "    b2.append(float(row[3]))\n",
        "    b3.append(float(row[4]))\n",
        "\n",
        "for i in range(0,2):\n",
        "  b4.append(float(b2[i]/b1[i])*100)\n",
        "  b5.append((float(b2[i])-float(b3[i]))/float(b1[i])*100)\n",
        "\n",
        "df=pd.DataFrame({'recycling rate':b4, 'real recycling rate':b5},index=year)\n",
        "df"
      ],
      "metadata": {
        "colab": {
          "base_uri": "https://localhost:8080/",
          "height": 112
        },
        "id": "-uBOwhZGymR7",
        "outputId": "91d04db1-81f8-4606-d5f2-b857d19ec31f"
      },
      "execution_count": 71,
      "outputs": [
        {
          "output_type": "execute_result",
          "data": {
            "text/plain": [
              "      recycling rate  real recycling rate\n",
              "2018       36.307631            30.421922\n",
              "2019       33.091938            26.689767"
            ],
            "text/html": [
              "\n",
              "  <div id=\"df-fc610167-caf8-45fb-82dd-55c4ec8f7a1d\">\n",
              "    <div class=\"colab-df-container\">\n",
              "      <div>\n",
              "<style scoped>\n",
              "    .dataframe tbody tr th:only-of-type {\n",
              "        vertical-align: middle;\n",
              "    }\n",
              "\n",
              "    .dataframe tbody tr th {\n",
              "        vertical-align: top;\n",
              "    }\n",
              "\n",
              "    .dataframe thead th {\n",
              "        text-align: right;\n",
              "    }\n",
              "</style>\n",
              "<table border=\"1\" class=\"dataframe\">\n",
              "  <thead>\n",
              "    <tr style=\"text-align: right;\">\n",
              "      <th></th>\n",
              "      <th>recycling rate</th>\n",
              "      <th>real recycling rate</th>\n",
              "    </tr>\n",
              "  </thead>\n",
              "  <tbody>\n",
              "    <tr>\n",
              "      <th>2018</th>\n",
              "      <td>36.307631</td>\n",
              "      <td>30.421922</td>\n",
              "    </tr>\n",
              "    <tr>\n",
              "      <th>2019</th>\n",
              "      <td>33.091938</td>\n",
              "      <td>26.689767</td>\n",
              "    </tr>\n",
              "  </tbody>\n",
              "</table>\n",
              "</div>\n",
              "      <button class=\"colab-df-convert\" onclick=\"convertToInteractive('df-fc610167-caf8-45fb-82dd-55c4ec8f7a1d')\"\n",
              "              title=\"Convert this dataframe to an interactive table.\"\n",
              "              style=\"display:none;\">\n",
              "        \n",
              "  <svg xmlns=\"http://www.w3.org/2000/svg\" height=\"24px\"viewBox=\"0 0 24 24\"\n",
              "       width=\"24px\">\n",
              "    <path d=\"M0 0h24v24H0V0z\" fill=\"none\"/>\n",
              "    <path d=\"M18.56 5.44l.94 2.06.94-2.06 2.06-.94-2.06-.94-.94-2.06-.94 2.06-2.06.94zm-11 1L8.5 8.5l.94-2.06 2.06-.94-2.06-.94L8.5 2.5l-.94 2.06-2.06.94zm10 10l.94 2.06.94-2.06 2.06-.94-2.06-.94-.94-2.06-.94 2.06-2.06.94z\"/><path d=\"M17.41 7.96l-1.37-1.37c-.4-.4-.92-.59-1.43-.59-.52 0-1.04.2-1.43.59L10.3 9.45l-7.72 7.72c-.78.78-.78 2.05 0 2.83L4 21.41c.39.39.9.59 1.41.59.51 0 1.02-.2 1.41-.59l7.78-7.78 2.81-2.81c.8-.78.8-2.07 0-2.86zM5.41 20L4 18.59l7.72-7.72 1.47 1.35L5.41 20z\"/>\n",
              "  </svg>\n",
              "      </button>\n",
              "      \n",
              "  <style>\n",
              "    .colab-df-container {\n",
              "      display:flex;\n",
              "      flex-wrap:wrap;\n",
              "      gap: 12px;\n",
              "    }\n",
              "\n",
              "    .colab-df-convert {\n",
              "      background-color: #E8F0FE;\n",
              "      border: none;\n",
              "      border-radius: 50%;\n",
              "      cursor: pointer;\n",
              "      display: none;\n",
              "      fill: #1967D2;\n",
              "      height: 32px;\n",
              "      padding: 0 0 0 0;\n",
              "      width: 32px;\n",
              "    }\n",
              "\n",
              "    .colab-df-convert:hover {\n",
              "      background-color: #E2EBFA;\n",
              "      box-shadow: 0px 1px 2px rgba(60, 64, 67, 0.3), 0px 1px 3px 1px rgba(60, 64, 67, 0.15);\n",
              "      fill: #174EA6;\n",
              "    }\n",
              "\n",
              "    [theme=dark] .colab-df-convert {\n",
              "      background-color: #3B4455;\n",
              "      fill: #D2E3FC;\n",
              "    }\n",
              "\n",
              "    [theme=dark] .colab-df-convert:hover {\n",
              "      background-color: #434B5C;\n",
              "      box-shadow: 0px 1px 3px 1px rgba(0, 0, 0, 0.15);\n",
              "      filter: drop-shadow(0px 1px 2px rgba(0, 0, 0, 0.3));\n",
              "      fill: #FFFFFF;\n",
              "    }\n",
              "  </style>\n",
              "\n",
              "      <script>\n",
              "        const buttonEl =\n",
              "          document.querySelector('#df-fc610167-caf8-45fb-82dd-55c4ec8f7a1d button.colab-df-convert');\n",
              "        buttonEl.style.display =\n",
              "          google.colab.kernel.accessAllowed ? 'block' : 'none';\n",
              "\n",
              "        async function convertToInteractive(key) {\n",
              "          const element = document.querySelector('#df-fc610167-caf8-45fb-82dd-55c4ec8f7a1d');\n",
              "          const dataTable =\n",
              "            await google.colab.kernel.invokeFunction('convertToInteractive',\n",
              "                                                     [key], {});\n",
              "          if (!dataTable) return;\n",
              "\n",
              "          const docLinkHtml = 'Like what you see? Visit the ' +\n",
              "            '<a target=\"_blank\" href=https://colab.research.google.com/notebooks/data_table.ipynb>data table notebook</a>'\n",
              "            + ' to learn more about interactive tables.';\n",
              "          element.innerHTML = '';\n",
              "          dataTable['output_type'] = 'display_data';\n",
              "          await google.colab.output.renderOutput(dataTable, element);\n",
              "          const docLink = document.createElement('div');\n",
              "          docLink.innerHTML = docLinkHtml;\n",
              "          element.appendChild(docLink);\n",
              "        }\n",
              "      </script>\n",
              "    </div>\n",
              "  </div>\n",
              "  "
            ]
          },
          "metadata": {},
          "execution_count": 71
        }
      ]
    },
    {
      "cell_type": "code",
      "source": [
        "import pandas as pd\n",
        "import csv\n",
        "data=csv.reader(open('remnants_since2018.csv'))\n",
        "\n",
        "year=['2018','2019'] #연도\n",
        "b1=[] #쓰레기 총량\n",
        "b2=[] #분리배출 총량\n",
        "b3=[] #재활용잔재물\n",
        "b4=[] #쓰레기총량에 대한 분리배출 비율\n",
        "b5=[] #실질재활용률 = 분리배출 총량-재활용잔재물/쓰레기총량\n",
        "for row in data:\n",
        "  if '서울' in row[1]:\n",
        "    b1.append(float(row[2]))\n",
        "    b2.append(float(row[3]))\n",
        "    b3.append(float(row[4]))\n",
        "\n",
        "for i in range(0,2):\n",
        "  b4.append(float(b2[i]/b1[i])*100)\n",
        "  b5.append((float(b2[i])-float(b3[i]))/float(b1[i])*100)\n",
        "\n",
        "df=pd.DataFrame({'recycling rate':b4, 'real recycling rate':b5},index=year)\n",
        "df\n",
        "\n",
        "import matplotlib.pyplot as plt\n",
        "import numpy as np\n",
        "\n",
        "fig,ax=plt.subplots(figsize=(6,6))\n",
        "bar_width=0.2\n",
        "\n",
        "index=np.arange(2)\n",
        "\n",
        "y1=plt.bar(index,df['recycling rate'],bar_width,alpha=0.9,label='nominal')\n",
        "y2=plt.bar(index+bar_width,df['real recycling rate'],bar_width,alpha=0.9,label='actual')\n",
        "\n",
        "plt.xticks(np.arange(bar_width,2+bar_width,1),year)\n",
        "\n",
        "\n",
        "plt.title('comparison of nominal recycling rate and actual')\n",
        "plt.xlabel('year',size=13)\n",
        "plt.ylabel('rate',size=13)\n",
        "plt.legend()\n",
        "plt.show()\n"
      ],
      "metadata": {
        "id": "6dah5ltMpHLD",
        "colab": {
          "base_uri": "https://localhost:8080/",
          "height": 407
        },
        "outputId": "81485f50-73a6-433b-8a75-ddf17c93e6b6"
      },
      "execution_count": 84,
      "outputs": [
        {
          "output_type": "display_data",
          "data": {
            "text/plain": [
              "<Figure size 432x432 with 1 Axes>"
            ],
            "image/png": "[encoded data removed]"
          },
          "metadata": {
            "needs_background": "light"
          }
        }
      ]
    }
  ]
}